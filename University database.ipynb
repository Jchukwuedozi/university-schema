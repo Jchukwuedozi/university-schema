{
 "cells": [
  {
   "cell_type": "code",
   "execution_count": 1,
   "id": "2e802f4c",
   "metadata": {},
   "outputs": [],
   "source": [
    "from sqlalchemy import create_engine,ForeignKey, Boolean,Integer, String, Table, Column, Numeric, Date\n",
    "from sqlalchemy.orm import sessionmaker, relationship, backref\n",
    "from sqlalchemy.ext.declarative import declarative_base"
   ]
  },
  {
   "cell_type": "code",
   "execution_count": 2,
   "id": "34281040",
   "metadata": {},
   "outputs": [],
   "source": [
    "engine = create_engine(r'sqlite:///C:/Users/Jchukwuedozi/Documents/data science/datasets/university.db')\n",
    "session = sessionmaker(bind=engine)\n",
    "session = session()\n",
    "Base = declarative_base()"
   ]
  },
  {
   "cell_type": "code",
   "execution_count": 3,
   "id": "5f44b115",
   "metadata": {},
   "outputs": [],
   "source": [
    "class Student(Base):\n",
    "    __tablename__ = \"Student Info\"\n",
    "    Student_id = Column(Integer(), primary_key=True)\n",
    "    Matric_number = Column(String(15), nullable=False, unique=True)\n",
    "    First_name = Column(String(15), nullable=False)\n",
    "    Last_name = Column(String(15), nullable=False)\n",
    "    Phone_number = Column(Integer(), nullable=False)\n",
    "    Email = Column(String(100), nullable=False)\n",
    "    Year_of_admission = Column(Date(), nullable=False)\n",
    "    Address = Column(String(255))\n",
    "    DOB = Column(Date(), nullable=False)\n",
    "    Password = Column(String(100), nullable=False)\n",
    "    Department_id = Column(Integer(), ForeignKey('Department Info.Department_id'))\n",
    "    Faculty_id = Column(Integer(), ForeignKey('Faculty Info.Faculty_id'))\n",
    "    Courses_id = relationship('StudentCourse', backref=backref('Student Info', cascade='all, delete-orphan'))\n",
    "    \n",
    "    \n",
    "class Department(Base):\n",
    "    __tablename__ = \"Department Info\"\n",
    "    Department_id = Column(Integer(), primary_key=True)\n",
    "    Dept_name = Column(String(100), nullable=False, unique=True)\n",
    "    Students = relationship('Student', backref='Department Info')                       \n",
    "    Faculty_id = Column(Integer(), ForeignKey('Faculty Info.Faculty_id'))\n",
    "    Courses = relationship('DepartmentCourse', backref=backref('Department Info', cascade='all, delete-orphan'))\n",
    "    Lecturers = relationship('Lecturer', back_populates='Department')\n",
    "    HOD = Column(String(100))\n",
    "    Year_created = Column(Date(), unique=True)\n",
    "    \n",
    "    \n",
    "class Faculty(Base):\n",
    "    __tablename__ = \"Faculty Info\"\n",
    "    Faculty_id = Column(Integer(), primary_key=True)\n",
    "    Faculty_name = Column(String(100), nullable=False)\n",
    "    Students = relationship('Student', backref=backref('Faculty Info', order_by='Faculty_id'))\n",
    "    Department = relationship('Department', backref=backref('Faculty Info', cascade='all, delete-orphan'))\n",
    "    Lecturers = relationship('Lecturer', backref='Faculty Info')\n",
    "    Courses = relationship('FacultyCourse', backref='Faculty Info')\n",
    "    \n",
    "    \n",
    "class Lecturer(Base):\n",
    "    __tablename__ = \"Lecturer Info\"\n",
    "    Lecturer_id = Column(Integer(), primary_key=True)\n",
    "    First_name = Column(String(15), nullable=False)\n",
    "    Last_name = Column(String(15), nullable=False)\n",
    "    Password = Column(String(100), nullable=False)\n",
    "    Department_id = Column(Integer(), ForeignKey('Department Info.Department_id'))\n",
    "    Department = relationship('Department', back_populates='Lecturers')\n",
    "    Date_employed = Column(Date(), nullable=False, unique=True)\n",
    "    Faculty_id = Column(Integer(), ForeignKey('Faculty Info.Faculty_id'))\n",
    "    Courses = relationship('Course', backref=backref('Lecturer Info', cascade='all, delete-orphan'))\n",
    "    \n",
    "\n",
    "class Course(Base):\n",
    "    __tablename__ = \"Course Info\"\n",
    "    Course_id = Column(Integer(), primary_key=True)\n",
    "    Course_code = Column(String(6), unique=True, nullable=False)\n",
    "    Course_title = Column(String(255), unique=True, nullable=False)\n",
    "    Credit_load = Column(Integer(), nullable=False)\n",
    "    Students = relationship('StudentCourse', backref='Course Info')\n",
    "    Taught_by = Column(Integer(), ForeignKey('Lecturer Info.Lecturer_id'))\n",
    "    Level = Column(String(10), nullable=False)\n",
    "    Department = relationship('DepartmentCourse', backref='Course Info') \n",
    "    Faculty = relationship('FacultyCourse', backref='Course Info')\n",
    "                     \n",
    "                     \n",
    "class StudentCourse(Base):\n",
    "    __tablename__ = \"Student Course Association\"\n",
    "    Course_id = Column(ForeignKey('Course Info.Course_id'), primary_key=True)\n",
    "    Student_id = Column(ForeignKey('Student Info.Student_id'), primary_key=True)\n",
    "    \n",
    "\n",
    "class DepartmentCourse(Base):\n",
    "    __tablename__ = \"Dept Course Association\"\n",
    "    Course_id = Column(ForeignKey('Course Info.Course_id'), primary_key=True)\n",
    "    Department_id = Column(ForeignKey('Department Info.Department_id'), primary_key=True)\n",
    "    \n",
    "    \n",
    "class FacultyCourse(Base):\n",
    "    __tablename__ = \"Faculty Course Association\"\n",
    "    Course_id = Column(ForeignKey('Course Info.Course_id'), primary_key=True)\n",
    "    Faculty_id = Column(ForeignKey('Faculty Info.Faculty_id'), primary_key=True)"
   ]
  },
  {
   "cell_type": "code",
   "execution_count": 4,
   "id": "7fcbe7b1",
   "metadata": {},
   "outputs": [],
   "source": [
    "Base.metadata.create_all(engine)"
   ]
  },
  {
   "cell_type": "code",
   "execution_count": null,
   "id": "c81ebd34",
   "metadata": {},
   "outputs": [],
   "source": []
  }
 ],
 "metadata": {
  "kernelspec": {
   "display_name": "Python 3 (ipykernel)",
   "language": "python",
   "name": "python3"
  },
  "language_info": {
   "codemirror_mode": {
    "name": "ipython",
    "version": 3
   },
   "file_extension": ".py",
   "mimetype": "text/x-python",
   "name": "python",
   "nbconvert_exporter": "python",
   "pygments_lexer": "ipython3",
   "version": "3.10.4"
  }
 },
 "nbformat": 4,
 "nbformat_minor": 5
}
